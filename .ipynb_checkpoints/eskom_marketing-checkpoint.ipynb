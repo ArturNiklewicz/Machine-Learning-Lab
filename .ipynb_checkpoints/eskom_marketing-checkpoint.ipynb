{
 "cells": [
  {
   "cell_type": "code",
   "execution_count": 1,
   "id": "d61a6350-0980-4355-9f4d-1e67a6f684ce",
   "metadata": {},
   "outputs": [],
   "source": [
    "import os\n",
    "import openai\n",
    "import sys\n",
    "sys.path.append('../..')\n",
    "from dotenv import load_dotenv, find_dotenv\n",
    "_ = load_dotenv(find_dotenv()) # read local .env file\n",
    "\n",
    "openai.api_key  = os.environ['OPENAI_API_KEY']"
   ]
  },
  {
   "cell_type": "code",
   "execution_count": 2,
   "id": "c3424e66-8ee9-46d5-94f1-7658ca0e3227",
   "metadata": {},
   "outputs": [],
   "source": [
    "from langchain_text_splitters import HTMLHeaderTextSplitter\n",
    "from pandas import read_csv\n",
    "from unicodedata import normalize"
   ]
  },
  {
   "cell_type": "markdown",
   "id": "2949ec1b-98ab-47df-a471-f2fa64567b27",
   "metadata": {},
   "source": [
    "### Initialize Data Frame"
   ]
  },
  {
   "cell_type": "code",
   "execution_count": 3,
   "id": "664a416d-cd45-440a-b311-259d71f23891",
   "metadata": {},
   "outputs": [],
   "source": [
    "file_path=\"eskom_articles.csv\"\n",
    "df = read_csv(filepath_or_buffer=file_path, sep=\";\", encoding=\"utf-8\")\n",
    "df = df[~df[\"url\"].str.contains('/en/')]  # drop english sites\n",
    "df = df.dropna()"
   ]
  },
  {
   "cell_type": "code",
   "execution_count": 4,
   "id": "c03fd17e-04fb-4380-92fd-ec491746a681",
   "metadata": {
    "scrolled": true
   },
   "outputs": [
    {
     "data": {
      "text/html": [
       "<div>\n",
       "<style scoped>\n",
       "    .dataframe tbody tr th:only-of-type {\n",
       "        vertical-align: middle;\n",
       "    }\n",
       "\n",
       "    .dataframe tbody tr th {\n",
       "        vertical-align: top;\n",
       "    }\n",
       "\n",
       "    .dataframe thead th {\n",
       "        text-align: right;\n",
       "    }\n",
       "</style>\n",
       "<table border=\"1\" class=\"dataframe\">\n",
       "  <thead>\n",
       "    <tr style=\"text-align: right;\">\n",
       "      <th></th>\n",
       "      <th>name</th>\n",
       "      <th>category</th>\n",
       "      <th>url</th>\n",
       "      <th>text</th>\n",
       "      <th>html</th>\n",
       "    </tr>\n",
       "  </thead>\n",
       "  <tbody>\n",
       "    <tr>\n",
       "      <th>572</th>\n",
       "      <td>bezpieczny-internet-i-wifi-w-szkole</td>\n",
       "      <td>cases</td>\n",
       "      <td>https://eskom.eu/bezpieczny-internet-i-wifi-w-...</td>\n",
       "      <td>Aruba – przyjazny bezprzewodowy dostęp do Inte...</td>\n",
       "      <td>&lt;div class=\"entry-content\"&gt;\\n&lt;div class=\"conta...</td>\n",
       "    </tr>\n",
       "    <tr>\n",
       "      <th>573</th>\n",
       "      <td>pzm-autotur</td>\n",
       "      <td>cases</td>\n",
       "      <td>https://eskom.eu/pzm-autotur</td>\n",
       "      <td>Wyższa wydajność i nowe możliwości rozwoju\\n„S...</td>\n",
       "      <td>&lt;div class=\"entry-content\"&gt;\\n&lt;div class=\"conta...</td>\n",
       "    </tr>\n",
       "    <tr>\n",
       "      <th>574</th>\n",
       "      <td>fresh-world-international</td>\n",
       "      <td>cases</td>\n",
       "      <td>https://eskom.eu/fresh-world-international</td>\n",
       "      <td>ESKOM wspiera rozwój informatyczny firmy Fresh...</td>\n",
       "      <td>&lt;div class=\"entry-content\"&gt;\\n&lt;div class=\"conta...</td>\n",
       "    </tr>\n",
       "    <tr>\n",
       "      <th>575</th>\n",
       "      <td>polsko-japonska-akademia-technik-komputerowych</td>\n",
       "      <td>cases</td>\n",
       "      <td>https://eskom.eu/polsko-japonska-akademia-tech...</td>\n",
       "      <td>Polsko-Japońska Akademia Technik Komputerowych...</td>\n",
       "      <td>&lt;div class=\"entry-content\"&gt;\\n&lt;div class=\"conta...</td>\n",
       "    </tr>\n",
       "    <tr>\n",
       "      <th>576</th>\n",
       "      <td>transformacja-infrastruktury-it-i-poprawa-ciag...</td>\n",
       "      <td>cases</td>\n",
       "      <td>https://eskom.eu/case-study/transformacja-infr...</td>\n",
       "      <td>W miarę jak biznes staje się coraz bardziej cy...</td>\n",
       "      <td>&lt;div class=\"entry-content\"&gt;\\n&lt;div class=\"conta...</td>\n",
       "    </tr>\n",
       "  </tbody>\n",
       "</table>\n",
       "</div>"
      ],
      "text/plain": [
       "                                                  name category  \\\n",
       "572                bezpieczny-internet-i-wifi-w-szkole    cases   \n",
       "573                                        pzm-autotur    cases   \n",
       "574                          fresh-world-international    cases   \n",
       "575     polsko-japonska-akademia-technik-komputerowych    cases   \n",
       "576  transformacja-infrastruktury-it-i-poprawa-ciag...    cases   \n",
       "\n",
       "                                                   url  \\\n",
       "572  https://eskom.eu/bezpieczny-internet-i-wifi-w-...   \n",
       "573                       https://eskom.eu/pzm-autotur   \n",
       "574         https://eskom.eu/fresh-world-international   \n",
       "575  https://eskom.eu/polsko-japonska-akademia-tech...   \n",
       "576  https://eskom.eu/case-study/transformacja-infr...   \n",
       "\n",
       "                                                  text  \\\n",
       "572  Aruba – przyjazny bezprzewodowy dostęp do Inte...   \n",
       "573  Wyższa wydajność i nowe możliwości rozwoju\\n„S...   \n",
       "574  ESKOM wspiera rozwój informatyczny firmy Fresh...   \n",
       "575  Polsko-Japońska Akademia Technik Komputerowych...   \n",
       "576  W miarę jak biznes staje się coraz bardziej cy...   \n",
       "\n",
       "                                                  html  \n",
       "572  <div class=\"entry-content\">\\n<div class=\"conta...  \n",
       "573  <div class=\"entry-content\">\\n<div class=\"conta...  \n",
       "574  <div class=\"entry-content\">\\n<div class=\"conta...  \n",
       "575  <div class=\"entry-content\">\\n<div class=\"conta...  \n",
       "576  <div class=\"entry-content\">\\n<div class=\"conta...  "
      ]
     },
     "execution_count": 4,
     "metadata": {},
     "output_type": "execute_result"
    }
   ],
   "source": [
    "df.tail()"
   ]
  },
  {
   "cell_type": "code",
   "execution_count": 43,
   "id": "7c6e553d-be1f-421c-b970-f86f3e686f87",
   "metadata": {},
   "outputs": [
    {
     "data": {
      "text/html": [
       "<div>\n",
       "<style scoped>\n",
       "    .dataframe tbody tr th:only-of-type {\n",
       "        vertical-align: middle;\n",
       "    }\n",
       "\n",
       "    .dataframe tbody tr th {\n",
       "        vertical-align: top;\n",
       "    }\n",
       "\n",
       "    .dataframe thead th {\n",
       "        text-align: right;\n",
       "    }\n",
       "</style>\n",
       "<table border=\"1\" class=\"dataframe\">\n",
       "  <thead>\n",
       "    <tr style=\"text-align: right;\">\n",
       "      <th></th>\n",
       "      <th>name</th>\n",
       "      <th>category</th>\n",
       "      <th>url</th>\n",
       "      <th>text</th>\n",
       "      <th>html</th>\n",
       "    </tr>\n",
       "  </thead>\n",
       "  <tbody>\n",
       "    <tr>\n",
       "      <th>1</th>\n",
       "      <td>jak-zapewnic-ochrone-dla-firmowych-danych-w-hy...</td>\n",
       "      <td>post</td>\n",
       "      <td>https://eskom.eu/blog/jak-zapewnic-ochrone-dla...</td>\n",
       "      <td>Dane traktowane są obecnie jako jeden z kluczo...</td>\n",
       "      <td>&lt;div class=\"entry-content\"&gt;\\n&lt;h3&gt;Dane traktowa...</td>\n",
       "    </tr>\n",
       "  </tbody>\n",
       "</table>\n",
       "</div>"
      ],
      "text/plain": [
       "                                                name category  \\\n",
       "1  jak-zapewnic-ochrone-dla-firmowych-danych-w-hy...     post   \n",
       "\n",
       "                                                 url  \\\n",
       "1  https://eskom.eu/blog/jak-zapewnic-ochrone-dla...   \n",
       "\n",
       "                                                text  \\\n",
       "1  Dane traktowane są obecnie jako jeden z kluczo...   \n",
       "\n",
       "                                                html  \n",
       "1  <div class=\"entry-content\">\\n<h3>Dane traktowa...  "
      ]
     },
     "execution_count": 43,
     "metadata": {},
     "output_type": "execute_result"
    }
   ],
   "source": [
    "shortdf = df.iloc[1:2]\n",
    "shortdf"
   ]
  },
  {
   "cell_type": "code",
   "execution_count": 17,
   "id": "b58fa010-2a41-4c1d-a8a0-9de6fb32671c",
   "metadata": {},
   "outputs": [],
   "source": [
    "from langchain_text_splitters import HTMLHeaderTextSplitter\n",
    "from pandas import read_csv\n",
    "from unicodedata import normalize"
   ]
  },
  {
   "cell_type": "code",
   "execution_count": null,
   "id": "2d7a5056-5b88-4185-b00d-e7b824fe92d5",
   "metadata": {},
   "outputs": [],
   "source": [
    "HEADERS_TO_SPLIT_ON = [('h1', 'Header 1'),\n",
    "                       ('h2', 'Header 2'),\n",
    "                       ('h3', 'Header 3'),\n",
    "                       ('h4', 'Header 4'),\n",
    "                       ('h5', 'Header 5'),\n",
    "                       ('h6', 'Header 6'),\n",
    "                       ('h7', 'Header 7')]"
   ]
  },
  {
   "cell_type": "code",
   "execution_count": 32,
   "id": "8deca2c8-8f25-4ede-bde4-8dd923917f95",
   "metadata": {},
   "outputs": [],
   "source": [
    "def fix_formatting(text):\n",
    "    return normalize(\"NFKD\", text).replace('\\n', \" \")"
   ]
  },
  {
   "cell_type": "code",
   "execution_count": 34,
   "id": "ae1a173f-7781-4942-857a-086f61189576",
   "metadata": {},
   "outputs": [],
   "source": [
    "docs = []\n",
    "for _, row in shortdf.iterrows():\n",
    "    page = 1\n",
    "    for doc in HTMLHeaderTextSplitter(headers_to_split_on=HEADERS_TO_SPLIT_ON).split_text(normalize(\"NFKD\", row[\"html\"])).replace('\\n', \" \"):\n",
    "        doc.page_content = fix_formatting(doc.page_content)\n",
    "        doc.metadata.update({\"source_url\": fix_formatting(row[\"url\"]),\n",
    "                             \"page\": page,\n",
    "                             \"source_article\": fix_formatting(row[\"name\"]),\n",
    "                             \"category\": fix_formatting(row[\"category\"])})\n",
    "        docs.append(doc)\n",
    "        page += 1"
   ]
  },
  {
   "cell_type": "code",
   "execution_count": 40,
   "id": "cd25aca6-8c9c-4faf-82d4-2be891ea24a1",
   "metadata": {
    "scrolled": true
   },
   "outputs": [
    {
     "data": {
      "text/plain": [
       "\"dict_values(['Dane traktowane są\\\\xa0obecnie jako jeden z\\\\xa0kluczowych, jeśli nie\\\\xa0najważniejszy organizacyjny zasób. Biznes po\\\\xa0prostu zależy od\\\\xa0danych. Niestety dostrzegli to\\\\xa0także cyberprzestępcy, którzy\\\\xa0zwielokrotnili próby ich wykradzenia albo\\\\xa0przynajmniej zaszyfrowania. Można być pewnym, że\\\\xa0wykorzystają każdą, nawet najmniejszą pozostawioną im\\\\xa0lukę w\\\\xa0systemie bezpieczeństwa, ponieważ wiedzą, że\\\\xa0można na\\\\xa0tym dobrze zarobić. Właśnie dlatego ochrona danych spędza sen z\\\\xa0powiek już nie\\\\xa0tylko\\\\xa0menedżerom ds.\\\\xa0bezpieczeństwa czy\\\\xa0szefom działów informatyki, ale\\\\xa0praktycznie całej wyższej kadrze kierowniczej w\\\\xa0firmach i\\\\xa0instytucjach.', 'https://eskom.eu/blog/jak-zapewnic-ochrone-dla-firmowych-danych-w-hybrydowym-wielochmurowym-swiecie-biznesowego-it', 2, 'jak-zapewnic-ochrone-dla-firmowych-danych-w-hybrydowym-wielochmurowym-swiecie-biznesowego-it', 'post'])\""
      ]
     },
     "execution_count": 40,
     "metadata": {},
     "output_type": "execute_result"
    }
   ],
   "source": [
    "fix_formatting(str(docs[1].metadata.values()))"
   ]
  },
  {
   "cell_type": "code",
   "execution_count": 42,
   "id": "4f15963b-4774-46f1-9d3f-a4425f714e9b",
   "metadata": {},
   "outputs": [
    {
     "data": {
      "text/plain": [
       "\"dict_values(['Dane traktowane są\\\\xa0obecnie jako jeden z\\\\xa0kluczowych, jeśli nie\\\\xa0najważniejszy organizacyjny zasób. Biznes po\\\\xa0prostu zależy od\\\\xa0danych. Niestety dostrzegli to\\\\xa0także cyberprzestępcy, którzy\\\\xa0zwielokrotnili próby ich wykradzenia albo\\\\xa0przynajmniej zaszyfrowania. Można być pewnym, że\\\\xa0wykorzystają każdą, nawet najmniejszą pozostawioną im\\\\xa0lukę w\\\\xa0systemie bezpieczeństwa, ponieważ wiedzą, że\\\\xa0można na\\\\xa0tym dobrze zarobić. Właśnie dlatego ochrona danych spędza sen z\\\\xa0powiek już nie\\\\xa0tylko\\\\xa0menedżerom ds.\\\\xa0bezpieczeństwa czy\\\\xa0szefom działów informatyki, ale\\\\xa0praktycznie całej wyższej kadrze kierowniczej w\\\\xa0firmach i\\\\xa0instytucjach.', 'https://eskom.eu/blog/jak-zapewnic-ochrone-dla-firmowych-danych-w-hybrydowym-wielochmurowym-swiecie-biznesowego-it', 2, 'jak-zapewnic-ochrone-dla-firmowych-danych-w-hybrydowym-wielochmurowym-swiecie-biznesowego-it', 'post'])\""
      ]
     },
     "execution_count": 42,
     "metadata": {},
     "output_type": "execute_result"
    }
   ],
   "source": [
    "normalize(\"NFKD\", str(docs[1].metadata.values()).replace('\\n', \" \"))"
   ]
  },
  {
   "cell_type": "code",
   "execution_count": null,
   "id": "53ed68ae-1578-488c-ac79-e2f615326765",
   "metadata": {},
   "outputs": [],
   "source": [
    "docs = []\n",
    "for _, row in df.iterrows():\n",
    "    page = 1\n",
    "    for doc in HTMLHeaderTextSplitter(headers_to_split_on=HEADERS_TO_SPLIT_ON).split_text(row[\"html\"]):\n",
    "        update_metadata(doc, row, page)\n",
    "        normalize_content(doc)\n",
    "        docs.append(doc)\n",
    "        page += 1\n",
    "splitted_docs = docs"
   ]
  }
 ],
 "metadata": {
  "kernelspec": {
   "display_name": "Python 3 (ipykernel)",
   "language": "python",
   "name": "python3"
  },
  "language_info": {
   "codemirror_mode": {
    "name": "ipython",
    "version": 3
   },
   "file_extension": ".py",
   "mimetype": "text/x-python",
   "name": "python",
   "nbconvert_exporter": "python",
   "pygments_lexer": "ipython3",
   "version": "3.12.2"
  }
 },
 "nbformat": 4,
 "nbformat_minor": 5
}
