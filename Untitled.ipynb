{
 "cells": [
  {
   "cell_type": "code",
   "execution_count": 1,
   "id": "f8b3a493-96e0-4fe8-bc8b-e4f3e6670795",
   "metadata": {},
   "outputs": [],
   "source": [
    "import numpy as np\n",
    "import matplotlib.pyplot as plt"
   ]
  },
  {
   "cell_type": "code",
   "execution_count": 27,
   "id": "984e9b97-37b8-4258-ab22-3bdb69552a6d",
   "metadata": {},
   "outputs": [
    {
     "name": "stdout",
     "output_type": "stream",
     "text": [
      "array: [1 2 3] \n",
      "array.shape: (3,)\n"
     ]
    }
   ],
   "source": [
    "array = np.array([1,2,3])\n",
    "print(f\"array: {array} \\narray.shape: {array.shape}\")"
   ]
  },
  {
   "cell_type": "code",
   "execution_count": 10,
   "id": "e8f4757a-d345-4c2a-9724-f7429cdb2ba4",
   "metadata": {},
   "outputs": [
    {
     "name": "stdout",
     "output_type": "stream",
     "text": [
      "array:\n",
      "[[1 2 3]\n",
      " [3 4 5]] \n",
      "array.shape: (2, 3)\n"
     ]
    }
   ],
   "source": [
    "array_2d = np.array([[1,2,3], [3,4,5]])\n",
    "print(f\"array:\\n{array_2d} \\narray.shape: {array_2d.shape}\")"
   ]
  },
  {
   "cell_type": "code",
   "execution_count": 12,
   "id": "4436d981-fd99-4df2-9468-dd8095048cf1",
   "metadata": {},
   "outputs": [
    {
     "data": {
      "text/plain": [
       "3"
      ]
     },
     "execution_count": 12,
     "metadata": {},
     "output_type": "execute_result"
    }
   ],
   "source": [
    "len(array)"
   ]
  },
  {
   "cell_type": "code",
   "execution_count": 16,
   "id": "fd06b6cb-8d4d-4b11-a7f1-0e31fe172da2",
   "metadata": {},
   "outputs": [
    {
     "data": {
      "text/plain": [
       "2"
      ]
     },
     "execution_count": 16,
     "metadata": {},
     "output_type": "execute_result"
    }
   ],
   "source": [
    "len(array_2d)"
   ]
  },
  {
   "cell_type": "code",
   "execution_count": 18,
   "id": "deb16a0c-a575-4016-9059-6643fc3ac2d3",
   "metadata": {},
   "outputs": [
    {
     "data": {
      "text/plain": [
       "3"
      ]
     },
     "execution_count": 18,
     "metadata": {},
     "output_type": "execute_result"
    }
   ],
   "source": [
    "len(array_2d.T)"
   ]
  },
  {
   "cell_type": "code",
   "execution_count": 48,
   "id": "28890cc5-491a-4fca-b957-5c473e39d2c1",
   "metadata": {},
   "outputs": [
    {
     "data": {
      "text/plain": [
       "array([[0.48170304, 0.43718532, 0.82583335, 0.96219426, 0.66818188],\n",
       "       [0.50247501, 0.6143067 , 0.09096271, 0.36929314, 0.23208039]])"
      ]
     },
     "execution_count": 48,
     "metadata": {},
     "output_type": "execute_result"
    }
   ],
   "source": [
    "np.random.rand(2, 5)"
   ]
  },
  {
   "cell_type": "markdown",
   "id": "4bd46df4-ee2f-44d3-87c8-0ad697b6308b",
   "metadata": {},
   "source": [
    "---\n",
    "## Random Numbers"
   ]
  },
  {
   "cell_type": "markdown",
   "id": "0a0a538e-7e82-4369-8a89-1eb3c32a826d",
   "metadata": {},
   "source": [
    "### Uniform Distribution"
   ]
  },
  {
   "cell_type": "code",
   "execution_count": 47,
   "id": "604cb3bd-1d80-49a8-bd37-0152b3a44edd",
   "metadata": {},
   "outputs": [
    {
     "data": {
      "text/plain": [
       "array([[-0.0752783 ,  1.52263595,  0.44418276,  0.67625645,  1.27752993],\n",
       "       [-0.80421835,  0.59217345, -0.85594592,  0.76431609,  0.43582327]])"
      ]
     },
     "execution_count": 47,
     "metadata": {},
     "output_type": "execute_result"
    }
   ],
   "source": [
    "np.random.randn(2, 5)"
   ]
  },
  {
   "cell_type": "markdown",
   "id": "8d6669eb-5ba0-4b08-b50f-a2d8cd273538",
   "metadata": {},
   "source": [
    "### Standard Normal Distribution"
   ]
  },
  {
   "cell_type": "code",
   "execution_count": 49,
   "id": "0eb2e9f7-9abf-4bbf-ba84-4b7c0bbac828",
   "metadata": {},
   "outputs": [
    {
     "data": {
      "text/plain": [
       "array([[ 0.435118  ,  1.3479785 , -1.59438696, -1.58412534,  0.22559243],\n",
       "       [-0.22465968, -1.06570085, -0.36080902, -0.49140924,  0.0137599 ]])"
      ]
     },
     "execution_count": 49,
     "metadata": {},
     "output_type": "execute_result"
    }
   ],
   "source": [
    "np.random.randn(2,5)"
   ]
  },
  {
   "cell_type": "markdown",
   "id": "ad2eaf91-cf14-4e85-87a8-c0e366619d4b",
   "metadata": {},
   "source": [
    "### Integers within a specified range"
   ]
  },
  {
   "cell_type": "code",
   "execution_count": 56,
   "id": "a62403be-7aed-4b8d-93c7-350af9377921",
   "metadata": {},
   "outputs": [
    {
     "data": {
      "text/plain": [
       "array([ 41,  76,  14,  19,  47,  42,  54,  45,  27,  39,   8,  95,   7,\n",
       "        99,  29,  49,   1,  14,  40,  11,  91,  67,  43,  16,  22,  76,\n",
       "        28,  50,  30,  87,  39,  44,  75,  79,   7,  11,  93,  36,   1,\n",
       "        66,  16,  43,  30,  24,  23,  64,   6,  10,  51,  60,  72,  50,\n",
       "         3,  16,  39,  73,  75, 100,  87,  36,  67,  79,   3,   4,   7,\n",
       "        86,  51,  77,  30,  79,  49,  26,   4,  38,  19,  94,  24,  62,\n",
       "        67,  13,  36,  33, 100,  42,  37,  17,  76,  89,  86,  30,   6,\n",
       "        98,  79,  33,   1,  17,  49,  44,  94,  87])"
      ]
     },
     "execution_count": 56,
     "metadata": {},
     "output_type": "execute_result"
    }
   ],
   "source": [
    "np.random.randint(1,101, 100)\n"
   ]
  },
  {
   "cell_type": "markdown",
   "id": "ba21c725-7f47-493b-b790-3a3a8045c2cd",
   "metadata": {},
   "source": [
    "### Specified Standard Deviation"
   ]
  },
  {
   "cell_type": "code",
   "execution_count": 65,
   "id": "edbdc4c7-883b-4e1e-ad0d-55a8da7c67c8",
   "metadata": {},
   "outputs": [
    {
     "data": {
      "text/plain": [
       "array([99.06056289])"
      ]
     },
     "execution_count": 65,
     "metadata": {},
     "output_type": "execute_result"
    }
   ],
   "source": [
    "np.random.normal(100, 1, 1)"
   ]
  },
  {
   "cell_type": "code",
   "execution_count": null,
   "id": "83e1701c-309d-44df-90d6-eae2c5688337",
   "metadata": {},
   "outputs": [],
   "source": []
  },
  {
   "cell_type": "code",
   "execution_count": null,
   "id": "d6aebf8e-0d64-43c4-b72f-08882d21fb05",
   "metadata": {},
   "outputs": [],
   "source": []
  }
 ],
 "metadata": {
  "kernelspec": {
   "display_name": "Python 3 (ipykernel)",
   "language": "python",
   "name": "python3"
  },
  "language_info": {
   "codemirror_mode": {
    "name": "ipython",
    "version": 3
   },
   "file_extension": ".py",
   "mimetype": "text/x-python",
   "name": "python",
   "nbconvert_exporter": "python",
   "pygments_lexer": "ipython3",
   "version": "3.12.2"
  }
 },
 "nbformat": 4,
 "nbformat_minor": 5
}
